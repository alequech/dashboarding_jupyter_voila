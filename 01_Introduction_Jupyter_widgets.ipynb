{
 "cells": [
  {
   "cell_type": "markdown",
   "metadata": {
    "Collapsed": "false"
   },
   "source": [
    "<img src='./img/opengeohub_logo.png' alt='OpenGeoHub Logo' align='right' width='15%'></img>"
   ]
  },
  {
   "cell_type": "markdown",
   "metadata": {},
   "source": [
    "<a href=\"./00_index.ipynb\"><< Index - Dashboarding with Jupyter Notebooks and Voila </a><span style=\"float:right;\"><a href=\"./02_voila_dashboards.ipynb\"> 02 - Introduction to Voila dashboards >></a></span>"
   ]
  },
  {
   "cell_type": "markdown",
   "metadata": {
    "Collapsed": "false"
   },
   "source": [
    "# 1 Introducing Jupyter widgets"
   ]
  },
  {
   "cell_type": "markdown",
   "metadata": {},
   "source": [
    "* [What are Jupyter widgets?](#about)\n",
    "* [Installing Jupyter widgets](#installation)\n",
    "* [Jupyter widgets - an overview](#overview)\n",
    "* [Jupyter widgets in action](#action)"
   ]
  },
  {
   "cell_type": "markdown",
   "metadata": {},
   "source": [
    "<hr>"
   ]
  },
  {
   "cell_type": "markdown",
   "metadata": {},
   "source": [
    "## <a id='about'></a>What are Jupyter widgets?"
   ]
  },
  {
   "cell_type": "markdown",
   "metadata": {},
   "source": [
    "Jupyter Widgets (`ipywidgets`) are interactive HTML widgets for Jupyter notebooks. With widgets, learners / researchers can see how a result is impacted by a changing input, without changing the code.\n",
    "\n",
    "Widgets are represented in the browser often as control features, such as a `slider`, `textbox` or `radio buttons`."
   ]
  },
  {
   "cell_type": "markdown",
   "metadata": {},
   "source": [
    "## <a id='installation'></a>Installing Jupyter widgets"
   ]
  },
  {
   "cell_type": "markdown",
   "metadata": {},
   "source": [
    "The [ipywidgets](https://github.com/jupyter-widgets/ipywidgets) library can be installed with `pip` or `conda`. \n"
   ]
  },
  {
   "cell_type": "markdown",
   "metadata": {},
   "source": [
    "#### Install it with conda"
   ]
  },
  {
   "cell_type": "markdown",
   "metadata": {},
   "source": [
    "`conda install -c conda-forge ipywidgets`"
   ]
  },
  {
   "cell_type": "markdown",
   "metadata": {},
   "source": [
    "#### Install it with pip"
   ]
  },
  {
   "cell_type": "markdown",
   "metadata": {},
   "source": [
    "`pip install ipywidgets` <br>\n",
    "`jupyter nbextension enable --py widgetsnbextension`"
   ]
  },
  {
   "cell_type": "markdown",
   "metadata": {},
   "source": [
    "Let us load the library and check out some widgets examples:"
   ]
  },
  {
   "cell_type": "code",
   "execution_count": 2,
   "metadata": {},
   "outputs": [],
   "source": [
    "# Load the widgets\n",
    "import ipywidgets as widgets"
   ]
  },
  {
   "cell_type": "markdown",
   "metadata": {
    "Collapsed": "false"
   },
   "source": [
    "## <a id='overview'></a>Jupyter widgets - an overview"
   ]
  },
  {
   "cell_type": "markdown",
   "metadata": {
    "Collapsed": "false"
   },
   "source": [
    "The following core interactive widgets exist:\n",
    "\n",
    "* [`sliders`](#sliders)\n",
    "  * [IntSlider / FloatSlider / FloatLogSlider](#IntSlider)\n",
    "  * [IntRangeSlider / FloatRangeSlider](#IntRangeSlider)\n",
    "* [`progress bars`](#progress_bars)\n",
    "  * [IntProgress / FloatProgress](#IntProgress)\n",
    "* [`text boxes`](#text_boxes)\n",
    "  * [BoundedIntText / BoundedFloatText](#BoundedIntText)\n",
    "  * [Text](#Text)\n",
    "  * [Textarea](#Textarea)\n",
    "  * [Combobox / Dropdown](#Combobox)\n",
    "* [`Buttons and Checkboxes`](#buttons)\n",
    "  * [Button](#Button)\n",
    "  * [Checkbox](#Checkbox)\n",
    "  * [Valid](#Valid)\n",
    "* [`selection`](#selection)\n",
    "  * [RadioButtons](#RadioButtons)\n",
    "  * [Select / SelectMultiple](#Select)\n",
    "  * [SelectionSlider](#SelectionSlider)\n",
    "  * [SelectionRangeSlider](#SelectionRangeSlider)\n",
    "  * [ToggleButtons](#ToggleButtons)\n",
    "  * [DatePicker]((#DatePicker))\n",
    "  * [ColorPicker](#ColorPicker)\n",
    "* [`Container / Layout`](#container)\n",
    "  * [Box](#Box)\n",
    "  * [HBox](#HBox)\n",
    "  * [VBox](#VBox)\n",
    "  * [GridBox](#GridBox)\n",
    "  * [Accordion](#Accordion)\n",
    "  * [Tabs](#Tabs)\n",
    "  * [Stacked](#Stacked)\n",
    "* [`ipyleaflet`](#ipyleaflet) (for mapping)"
   ]
  },
  {
   "cell_type": "markdown",
   "metadata": {
    "Collapsed": "false"
   },
   "source": [
    "### <a id='sliders'></a>Sliders"
   ]
  },
  {
   "cell_type": "markdown",
   "metadata": {},
   "source": [
    "#### <a id='IntSlider'></a>IntSlider / FloatSlider / FloatLogSlider"
   ]
  },
  {
   "cell_type": "markdown",
   "metadata": {},
   "source": [
    "A slider is initialized with the following values:\n",
    "* `value`: initial value of the slider\n",
    "* `min`, `max` and `step`: define the start, stop and increment of the slider\n",
    "* `description`: the label of the slider\n",
    "* `orientation`: can be `vertical` or `horizontal`\n",
    "* `readout`: displays the current value next to the slider (default: true)"
   ]
  },
  {
   "cell_type": "code",
   "execution_count": 28,
   "metadata": {
    "Collapsed": "false"
   },
   "outputs": [
    {
     "data": {
      "application/vnd.jupyter.widget-view+json": {
       "model_id": "64f1d8c128044264aa0f5169e1f69b32",
       "version_major": 2,
       "version_minor": 0
      },
      "text/plain": [
       "IntSlider(value=1, continuous_update=False, description='Slider:', max=10)"
      ]
     },
     "metadata": {},
     "output_type": "display_data"
    }
   ],
   "source": [
    "widgets.IntSlider(\n",
    "    value=1,\n",
    "    min=0,\n",
    "    max=10,\n",
    "    step=1,\n",
    "    description='Slider:',\n",
    "    disabled=False,\n",
    "    continuous_update=False,\n",
    "    orientation='horizontal', #horizontal\n",
    "    readout=True\n",
    ")"
   ]
  },
  {
   "cell_type": "markdown",
   "metadata": {},
   "source": [
    "The Slider above is only valid for `integer` values. Use `widgets.FloatSlider` for a slider with `float` values. Change `orientation` to `vertical` for an example of a vertical slider."
   ]
  },
  {
   "cell_type": "code",
   "execution_count": 29,
   "metadata": {},
   "outputs": [
    {
     "data": {
      "application/vnd.jupyter.widget-view+json": {
       "model_id": "9ac645920d2e4af199646b70bb7fdef4",
       "version_major": 2,
       "version_minor": 0
      },
      "text/plain": [
       "FloatSlider(value=2.4, continuous_update=False, description='Slider:', max=10.0, orientation='vertical', step=…"
      ]
     },
     "metadata": {},
     "output_type": "display_data"
    }
   ],
   "source": [
    "widgets.FloatSlider(\n",
    "    value=2.4,\n",
    "    min=0,\n",
    "    max=10,\n",
    "    step=0.2,\n",
    "    description='Slider:',\n",
    "    disabled=False,\n",
    "    continuous_update=False,\n",
    "    orientation='vertical', #vertical\n",
    "    readout=True\n",
    ")"
   ]
  },
  {
   "cell_type": "markdown",
   "metadata": {},
   "source": [
    "You can use `widgets.FloatLogSlider` for a slider with a logarithmic scale that covers a wide range of positive magnitudes."
   ]
  },
  {
   "cell_type": "markdown",
   "metadata": {},
   "source": [
    "#### <a id='IntRangeSlider'></a>IntRangeSlider / FloatRangeSlider"
   ]
  },
  {
   "cell_type": "markdown",
   "metadata": {},
   "source": [
    "`IntRangeSlider` enables you to specify a range of integer values. Instead of a single value for `value`, you specify a range, e.g. `[2,5]`. `FloatRangeSlider` allows you to specify a range of float values."
   ]
  },
  {
   "cell_type": "code",
   "execution_count": 32,
   "metadata": {},
   "outputs": [
    {
     "data": {
      "application/vnd.jupyter.widget-view+json": {
       "model_id": "4701f9272ae6461b864483395a8c7619",
       "version_major": 2,
       "version_minor": 0
      },
      "text/plain": [
       "IntRangeSlider(value=(2, 5), continuous_update=False, description='Slider Range:', max=10)"
      ]
     },
     "metadata": {},
     "output_type": "display_data"
    }
   ],
   "source": [
    "widgets.IntRangeSlider(\n",
    "    value=[2, 5],\n",
    "    min=0,\n",
    "    max=10,\n",
    "    step=1,\n",
    "    description='Slider Range:',\n",
    "    disabled=False,\n",
    "    continuous_update=False,\n",
    "    orientation='horizontal',\n",
    "    readout=True\n",
    ")"
   ]
  },
  {
   "cell_type": "markdown",
   "metadata": {},
   "source": [
    "### <a id='progress_bars'></a>Progress bars"
   ]
  },
  {
   "cell_type": "markdown",
   "metadata": {},
   "source": [
    "#### <a id='IntProgress'></a>IntProgess / FloatProgress"
   ]
  },
  {
   "cell_type": "markdown",
   "metadata": {},
   "source": [
    "`IntProgress` and `FloatProgress` allow you to define `progress bars` with integer or float values. You need the following values to define it:\n",
    "* `value`: initial value\n",
    "* `min`, `max`, `step`: To define the valid range of the progress bar and the increment.\n",
    "* `description`: label of the progress bar\n",
    "* `bar_style`: can be either `info`, `danger`, `warning`, `success` or ``\n",
    "* `orientations`: can be `horizonal` or `vertical`"
   ]
  },
  {
   "cell_type": "code",
   "execution_count": 37,
   "metadata": {
    "Collapsed": "false"
   },
   "outputs": [
    {
     "data": {
      "application/vnd.jupyter.widget-view+json": {
       "model_id": "c450b08c093347b385ac7f01decb08e2",
       "version_major": 2,
       "version_minor": 0
      },
      "text/plain": [
       "IntProgress(value=7, bar_style='info', description='Progress:', max=10)"
      ]
     },
     "metadata": {},
     "output_type": "display_data"
    }
   ],
   "source": [
    "widgets.IntProgress(\n",
    "    value=7,\n",
    "    min=0,\n",
    "    max=10,\n",
    "    step=4,\n",
    "    description='Progress:',\n",
    "    bar_style='info', # 'danger', 'info', 'warning', 'success' or ''\n",
    "    orientation='horizontal'\n",
    ")"
   ]
  },
  {
   "cell_type": "markdown",
   "metadata": {},
   "source": [
    "### <a id='text_boxes'></a>Text boxes"
   ]
  },
  {
   "cell_type": "markdown",
   "metadata": {},
   "source": [
    "Text box widgets can be differentiated between text boxes that accept `numeric` values and those that accept `strings`.\n",
    "* Numeric value text boxes: \n",
    "  * `BoundedIntText / BoundedFloatText`, \n",
    "  * `IntText / FloatText`\n",
    "* String text boxes: \n",
    "  * `Text`, \n",
    "  * `Text Area`, \n",
    "  * `Combobox / Dropdown`"
   ]
  },
  {
   "cell_type": "markdown",
   "metadata": {},
   "source": [
    "#### <a id='BoundedIntText'></a>BoundedIntText / BoundedFloatText"
   ]
  },
  {
   "cell_type": "markdown",
   "metadata": {},
   "source": [
    "These text boxes allow you to enter an `integer` or `float` value. You can defined the following values:\n",
    "* `value`: initial value\n",
    "* `min`, `max`, `step`: To define the valid range of the interger or float increment.\n",
    "* `description`: label of the progress bar\n",
    "* `disabled`: to disable the widget\n"
   ]
  },
  {
   "cell_type": "code",
   "execution_count": 7,
   "metadata": {},
   "outputs": [
    {
     "data": {
      "application/vnd.jupyter.widget-view+json": {
       "model_id": "ddf9741870ce4b4a97611c5974b97d2b",
       "version_major": 2,
       "version_minor": 0
      },
      "text/plain": [
       "BoundedIntText(value=7, description='Integer Text:', max=10, step=2)"
      ]
     },
     "metadata": {},
     "output_type": "display_data"
    }
   ],
   "source": [
    "widgets.BoundedIntText(\n",
    "    value=7,\n",
    "    min=0,\n",
    "    max=10,\n",
    "    step=2,\n",
    "    description='Integer Text:',\n",
    "    disabled=False\n",
    ")"
   ]
  },
  {
   "cell_type": "markdown",
   "metadata": {},
   "source": [
    "#### <a id='IntText'></a>IntText / FloatText"
   ]
  },
  {
   "cell_type": "markdown",
   "metadata": {},
   "source": [
    "`IntText` and `FloatText` are similar to the `BoundedIntText` and `BoundedFloatText`, just with the difference that the integer or float ranges are not bounded / limited."
   ]
  },
  {
   "cell_type": "code",
   "execution_count": 6,
   "metadata": {},
   "outputs": [
    {
     "data": {
      "application/vnd.jupyter.widget-view+json": {
       "model_id": "cc8c82a3c56643619415cc3c3b375bfb",
       "version_major": 2,
       "version_minor": 0
      },
      "text/plain": [
       "FloatText(value=7.2, description='Any:', step=0.1)"
      ]
     },
     "metadata": {},
     "output_type": "display_data"
    }
   ],
   "source": [
    "widgets.FloatText(\n",
    "    value=7.2,\n",
    "    step=0.1,\n",
    "    description='Any:',\n",
    "    disabled=False\n",
    ")"
   ]
  },
  {
   "cell_type": "markdown",
   "metadata": {},
   "source": [
    "#### <a id='Text'></a>Text"
   ]
  },
  {
   "cell_type": "markdown",
   "metadata": {},
   "source": [
    "The `Text` widget is a text box that allows you to enter a `string`. Values that can be defined are:\n",
    "* `value`: Initial string \n",
    "* `placeholder`: Placeholder in case no text is entered\n",
    "* `description`: Description of the text box\n",
    "* `disabled`: if `True`, text box is disabled. Default: `False`"
   ]
  },
  {
   "cell_type": "code",
   "execution_count": 3,
   "metadata": {},
   "outputs": [
    {
     "data": {
      "application/vnd.jupyter.widget-view+json": {
       "model_id": "413061599e1f4520a4f2649230ca28d1",
       "version_major": 2,
       "version_minor": 0
      },
      "text/plain": [
       "Text(value='Hello World', description='String:', placeholder='Type something')"
      ]
     },
     "metadata": {},
     "output_type": "display_data"
    }
   ],
   "source": [
    "widgets.Text(\n",
    "    value='Hello World',\n",
    "    placeholder='Type something',\n",
    "    description='String:',\n",
    "    disabled=False\n",
    ")"
   ]
  },
  {
   "cell_type": "markdown",
   "metadata": {},
   "source": [
    "#### <a id='Textarea'></a>Textarea"
   ]
  },
  {
   "cell_type": "markdown",
   "metadata": {},
   "source": [
    "Text area is the same as the text box, just allowing to enter more characters. The same values can be defined:\n",
    "* `value`: Initial string \n",
    "* `placeholder`: Placeholder in case no text is entered\n",
    "* `description`: Description of the text area.\n",
    "* `disabled`: if `True`, text box is disabled. Default: `False`"
   ]
  },
  {
   "cell_type": "code",
   "execution_count": 5,
   "metadata": {},
   "outputs": [
    {
     "data": {
      "application/vnd.jupyter.widget-view+json": {
       "model_id": "ae748871b892477ba8d5b7ed72022ab5",
       "version_major": 2,
       "version_minor": 0
      },
      "text/plain": [
       "Textarea(value='Hello World', description='String:', placeholder='Type something')"
      ]
     },
     "metadata": {},
     "output_type": "display_data"
    }
   ],
   "source": [
    "widgets.Textarea(\n",
    "    value='Hello World',\n",
    "    placeholder='Type something',\n",
    "    description='String:',\n",
    "    disabled=False\n",
    ")"
   ]
  },
  {
   "cell_type": "markdown",
   "metadata": {},
   "source": [
    "#### <a id='Combobox'></a>Combobox / Dropdown"
   ]
  },
  {
   "cell_type": "markdown",
   "metadata": {},
   "source": [
    "`Combobox` or `Dropdown` are widgets that allow to select from a pre-defined list of entries. The following values can be defined:\n",
    "* `value` (optional): Initial entry\n",
    "* `placeholder`: Text in case no entry is selected\n",
    "* `options`: List of selection items\n",
    "* `description`: Description of the widget.\n",
    "* `disabled`: if `True`, combobox is disabled. Default: `False`"
   ]
  },
  {
   "cell_type": "code",
   "execution_count": 14,
   "metadata": {},
   "outputs": [
    {
     "data": {
      "application/vnd.jupyter.widget-view+json": {
       "model_id": "e6e7af1101b74f40b327a4653ffcba42",
       "version_major": 2,
       "version_minor": 0
      },
      "text/plain": [
       "Combobox(value='', description='Combobox:', options=('Europe', 'US/Canada', 'Australia', 'Africa'), placeholde…"
      ]
     },
     "metadata": {},
     "output_type": "display_data"
    }
   ],
   "source": [
    "widgets.Combobox(\n",
    "    # value='Europe',\n",
    "    placeholder='Choose a continent',\n",
    "    options=['Europe', 'US/Canada', 'Australia', 'Africa'],\n",
    "    description='Combobox:',\n",
    "    disabled=False\n",
    ")"
   ]
  },
  {
   "cell_type": "markdown",
   "metadata": {},
   "source": [
    "`Dropdown` has the same function, just a slightly different layout."
   ]
  },
  {
   "cell_type": "code",
   "execution_count": 13,
   "metadata": {},
   "outputs": [
    {
     "data": {
      "application/vnd.jupyter.widget-view+json": {
       "model_id": "540fcda29a1b460ab86a0bcd7c48fcad",
       "version_major": 2,
       "version_minor": 0
      },
      "text/plain": [
       "Dropdown(description='Dropdown:', options=('Europe', 'US/Canada', 'Australia', 'Africa'), value='Europe')"
      ]
     },
     "metadata": {},
     "output_type": "display_data"
    }
   ],
   "source": [
    "widgets.Dropdown(\n",
    "    value='Europe',\n",
    "    placeholder='Choose a continent',\n",
    "    options=['Europe', 'US/Canada', 'Australia', 'Africa'],\n",
    "    description='Dropdown:',\n",
    "    disabled=False,\n",
    ")"
   ]
  },
  {
   "cell_type": "markdown",
   "metadata": {},
   "source": [
    "### <a id='buttons'></a> Buttons and Checkboxes"
   ]
  },
  {
   "cell_type": "markdown",
   "metadata": {},
   "source": [
    "There are three different widgets types under the `Buttons and checkboxes` category:\n",
    "* `Button`\n",
    "* `Checkbox`\n",
    "* `Valid`"
   ]
  },
  {
   "cell_type": "markdown",
   "metadata": {},
   "source": [
    "#### <a id='Button'></a>Button"
   ]
  },
  {
   "cell_type": "markdown",
   "metadata": {},
   "source": [
    "The `Button` widget provided you a clickable button, which can be customized as follows:\n",
    "* `value`:\n",
    "* `description`: Description or instruction of the button\n",
    "* `disabled`: if `True`, Button is disabled. Default: `False`\n",
    "* `button_style`: colorizes the button. Colors can be changed with alert names, e.g. `success`, `info`, `warning` or `danger`\n",
    "* `tooltip`: Description for the mouse hover\n",
    "* `icon`: Any [fontawesome](https://fontawesome.com/icons) icon can be added to the button"
   ]
  },
  {
   "cell_type": "code",
   "execution_count": 49,
   "metadata": {},
   "outputs": [
    {
     "data": {
      "application/vnd.jupyter.widget-view+json": {
       "model_id": "ff0377bc4bf746b3a811cb6241f5af74",
       "version_major": 2,
       "version_minor": 0
      },
      "text/plain": [
       "Button(button_style='info', description='Click me', icon='check', style=ButtonStyle(), tooltip='Description')"
      ]
     },
     "metadata": {},
     "output_type": "display_data"
    }
   ],
   "source": [
    "widgets.Button(\n",
    "    value=False,\n",
    "    description='Click me',\n",
    "    disabled=False,\n",
    "    button_style='info', # 'success', 'info', 'warning', 'danger' or ''\n",
    "    tooltip='Description',\n",
    "    icon='check'\n",
    "#   icon='graduation-cap'\n",
    ")"
   ]
  },
  {
   "cell_type": "markdown",
   "metadata": {},
   "source": [
    "#### <a id='Checkbox'></a>Checkbox"
   ]
  },
  {
   "cell_type": "markdown",
   "metadata": {},
   "source": [
    "`Checkbox` provided a box to be checked. The following values have to be specified:\n",
    "* `value`: Specifies whether the box is checked or not. `False` is unchecked.\n",
    "* `description`: Description of the box to be checked.\n",
    "* `disabled`: if True, Button is disabled. Default: False"
   ]
  },
  {
   "cell_type": "code",
   "execution_count": 50,
   "metadata": {},
   "outputs": [
    {
     "data": {
      "application/vnd.jupyter.widget-view+json": {
       "model_id": "19445f51292c4b319775daad5c51b184",
       "version_major": 2,
       "version_minor": 0
      },
      "text/plain": [
       "Checkbox(value=True, description='Check me')"
      ]
     },
     "metadata": {},
     "output_type": "display_data"
    }
   ],
   "source": [
    "widgets.Checkbox(\n",
    "    value=True,\n",
    "    description='Check me',\n",
    "    disabled=False\n",
    ")"
   ]
  },
  {
   "cell_type": "markdown",
   "metadata": {},
   "source": [
    "### <a id='selection'></a> selection"
   ]
  },
  {
   "cell_type": "markdown",
   "metadata": {},
   "source": [
    "Selection widgets are widgets that allow to make a selection. The selection can be presented in different layouts:\n",
    "* `RadioButtons`\n",
    "* `Select / SelectMultiple`\n",
    "* `SelectionSlider`\n",
    "* `SelectionRangeSlider`\n",
    "* `ToggleButtons`\n",
    "* `DatePicker`\n",
    "* `ColorPicker`"
   ]
  },
  {
   "cell_type": "markdown",
   "metadata": {},
   "source": [
    "#### <a id='RadioButtons'></a>RadioButtons"
   ]
  },
  {
   "cell_type": "markdown",
   "metadata": {},
   "source": [
    "`RadioButtons` provide buttons as select options. The widget can be customized with the following values:\n",
    "* `options`: a list of options to select from\n",
    "* `value`: if specified, the provided option is selected\n",
    "* `description`: Label of the widget\n",
    "* `disabled`: if `True`, widget is disabled. Default: `False`"
   ]
  },
  {
   "cell_type": "code",
   "execution_count": 56,
   "metadata": {
    "Collapsed": "false"
   },
   "outputs": [
    {
     "data": {
      "application/vnd.jupyter.widget-view+json": {
       "model_id": "6ede1168fd7145eeb82f19ac29f13f0b",
       "version_major": 2,
       "version_minor": 0
      },
      "text/plain": [
       "RadioButtons(description='Survey:', options=('Jupyter is great', 'Jupyter is average', 'Do not understand the …"
      ]
     },
     "metadata": {},
     "output_type": "display_data"
    }
   ],
   "source": [
    "widgets.RadioButtons(\n",
    "    options=['Jupyter is great', 'Jupyter is average', 'Do not understand the hype'],\n",
    "    value='Jupyter is great',\n",
    "    description='Survey:',\n",
    "    disabled=False\n",
    ")"
   ]
  },
  {
   "cell_type": "markdown",
   "metadata": {},
   "source": [
    "#### <a id='Select'></a>Select"
   ]
  },
  {
   "cell_type": "markdown",
   "metadata": {},
   "source": [
    "`Select` provided different options to select from in a box. The following values have to be specified:\n",
    "* `options`: a list of different options to select from\n",
    "* `value`: if specified, this value is selected\n",
    "* `rows`: an integer that controls the number of rows\n",
    "* `description`: Label of the widget\n",
    "* `disabled`: if `True`, widget is disabled. Default: `False`"
   ]
  },
  {
   "cell_type": "code",
   "execution_count": 59,
   "metadata": {},
   "outputs": [
    {
     "data": {
      "application/vnd.jupyter.widget-view+json": {
       "model_id": "d953a11f069c436c92cb227893e14da0",
       "version_major": 2,
       "version_minor": 0
      },
      "text/plain": [
       "Select(description='Color:', options=('Red', 'Green', 'Blue'), value='Red')"
      ]
     },
     "metadata": {},
     "output_type": "display_data"
    }
   ],
   "source": [
    "widgets.Select(\n",
    "    options=['Red', 'Green', 'Blue'],\n",
    "#    value='Blue',\n",
    "#    rows=10,\n",
    "    description='Color:',\n",
    "    disabled=False\n",
    ")"
   ]
  },
  {
   "cell_type": "markdown",
   "metadata": {},
   "source": [
    "The widget `SelectMultiple` is the same as `Select`, but allows the selection of multiple values."
   ]
  },
  {
   "cell_type": "code",
   "execution_count": 60,
   "metadata": {},
   "outputs": [
    {
     "data": {
      "application/vnd.jupyter.widget-view+json": {
       "model_id": "306c262cad3a489ab186139ba7b09576",
       "version_major": 2,
       "version_minor": 0
      },
      "text/plain": [
       "SelectMultiple(description='Colors', index=(0,), options=('Red', 'Green', 'Blue'), rows=10, value=('Red',))"
      ]
     },
     "metadata": {},
     "output_type": "display_data"
    }
   ],
   "source": [
    "widgets.SelectMultiple(\n",
    "    options=['Red', 'Green', 'Blue'],\n",
    "    value=['Red'],\n",
    "    rows=10,\n",
    "    description='Colors',\n",
    "    disabled=False\n",
    ")"
   ]
  },
  {
   "cell_type": "markdown",
   "metadata": {},
   "source": [
    "#### <a id='SelectionSlider'></a>SelectionSlider"
   ]
  },
  {
   "cell_type": "markdown",
   "metadata": {},
   "source": [
    "`SelectionSlider` is a selection widget that lets you select different option along a horizontal or vertical slider. You can specify the following options:\n",
    "* `options`: a list of options to select from\n",
    "* `value`: initial value to be set\n",
    "* `description`: Label of the widget\n",
    "* `disabled`: if `True`, widget is disabled. Default: `False`\n",
    "* `orientation`: can `horizontal` or `vertical`\n",
    "* `readout`: if `True`, the selected options is written next to or below the widget"
   ]
  },
  {
   "cell_type": "code",
   "execution_count": 75,
   "metadata": {},
   "outputs": [
    {
     "data": {
      "application/vnd.jupyter.widget-view+json": {
       "model_id": "de7887df554a4ac9a9840de43422d595",
       "version_major": 2,
       "version_minor": 0
      },
      "text/plain": [
       "SelectionSlider(description='Height:', options=('low', 'higher', 'the highest'), orientation='vertical', value…"
      ]
     },
     "metadata": {},
     "output_type": "display_data"
    }
   ],
   "source": [
    "widgets.SelectionSlider(\n",
    "    options=['low', 'higher', 'the highest'],\n",
    "    value='low',\n",
    "    description='Height:',\n",
    "    disabled=False,\n",
    "    orientation='vertical',\n",
    "    readout=True\n",
    ")"
   ]
  },
  {
   "cell_type": "markdown",
   "metadata": {},
   "source": [
    "#### <a id='SelectionRangeSlider'></a>SelectionRangeSlider"
   ]
  },
  {
   "cell_type": "markdown",
   "metadata": {},
   "source": [
    "`SelectionRangeSlider` allows you to select a range with start and end within a slider widget. You can specify the following values:\n",
    "* ` options`: a list of options to select from\n",
    "* `index`: start and end integer values\n",
    "* `descripton`: Label of the widget\n",
    "* `disabled`: if `True`, widget is disabled. Default: `False`"
   ]
  },
  {
   "cell_type": "code",
   "execution_count": 76,
   "metadata": {},
   "outputs": [
    {
     "data": {
      "application/vnd.jupyter.widget-view+json": {
       "model_id": "925eeb156f6f44cfbeea45cf5e71a3d4",
       "version_major": 2,
       "version_minor": 0
      },
      "text/plain": [
       "SelectionRangeSlider(description='Months (2020)', index=(0, 11), options=(('Jan', datetime.date(2020, 1, 1)), …"
      ]
     },
     "metadata": {},
     "output_type": "display_data"
    }
   ],
   "source": [
    "import datetime\n",
    "dates = [datetime.date(2020, i, 1) for i in range(1, 13)]\n",
    "options = [(i.strftime('%b'), i) for i in dates]\n",
    "\n",
    "widgets.SelectionRangeSlider(\n",
    "    options=options,\n",
    "    index=(0, 11),\n",
    "    description='Months (2020)',\n",
    "    disabled=False\n",
    ")"
   ]
  },
  {
   "cell_type": "markdown",
   "metadata": {},
   "source": [
    "#### <a id='ToggleButtons'></a>ToggleButtons"
   ]
  },
  {
   "cell_type": "markdown",
   "metadata": {},
   "source": [
    "`ToggleButtons` is a selection widget that lets you select different options from different buttons. You can specify the following options:\n",
    "* `options`: a list of options to select from\n",
    "* `description`: Label of the widget\n",
    "* `disabled`: if `True`, widget is disabled. Default: `False`\n",
    "* `button_style`: changes the color of the button. Can be `danger`, `success`, `info`, `warning` and ``.\n",
    "* `tooltips`: a list of descriptions for each button\n",
    "* `icons`: any [fontawesome](https://fontawesome.com/icons) icon can be added to each button"
   ]
  },
  {
   "cell_type": "code",
   "execution_count": 66,
   "metadata": {
    "Collapsed": "false"
   },
   "outputs": [
    {
     "data": {
      "application/vnd.jupyter.widget-view+json": {
       "model_id": "3ec11c31ef95475ea13974259897e097",
       "version_major": 2,
       "version_minor": 0
      },
      "text/plain": [
       "ToggleButtons(button_style='danger', description='Speed:', icons=('check', 'check', 'check', 'check'), options…"
      ]
     },
     "metadata": {},
     "output_type": "display_data"
    }
   ],
   "source": [
    "widgets.ToggleButtons(\n",
    "    options=['Slow', 'Regular', 'Fast'],\n",
    "    description='Speed:',\n",
    "    disabled=False,\n",
    "    button_style='danger', # 'success', 'info', 'warning', 'danger' or ''\n",
    "    tooltips=['Description of slow', 'Description of regular', 'Description of fast'],\n",
    "    icons=['check'] * 3,\n",
    ")"
   ]
  },
  {
   "cell_type": "markdown",
   "metadata": {},
   "source": [
    "#### <a id='DatePicker'></a>DatePicker"
   ]
  },
  {
   "cell_type": "markdown",
   "metadata": {},
   "source": [
    "`DatePicker` lets you integrate a calendar functionality. The following values can be specified:\n",
    "* `description`: Label of the widget\n",
    "* `disabled`: if `True`, widget is disabled. Default: `False`."
   ]
  },
  {
   "cell_type": "code",
   "execution_count": 32,
   "metadata": {},
   "outputs": [
    {
     "data": {
      "application/vnd.jupyter.widget-view+json": {
       "model_id": "c039d361d8d14c4f9814a8f301f7bbf8",
       "version_major": 2,
       "version_minor": 0
      },
      "text/plain": [
       "DatePicker(value=None, description='Pick a Date')"
      ]
     },
     "metadata": {},
     "output_type": "display_data"
    }
   ],
   "source": [
    "widgets.DatePicker(\n",
    "    description='Choose a date',\n",
    "    disabled=False\n",
    ")"
   ]
  },
  {
   "cell_type": "markdown",
   "metadata": {},
   "source": [
    "#### <a id='ColorPicker'></a>ColorPicker"
   ]
  },
  {
   "cell_type": "markdown",
   "metadata": {},
   "source": [
    "`ColorPicker` lets you integrate a functionality to choose different colors, based on RGB values. You can specify the following values:\n",
    "* `concise`: if `False`, the name and the color is shown. If `True`, only the color box is shown.\n",
    "* `description`: Label of the widget.\n",
    "* `value`: predefined color before selection.\n",
    "* `disabled`: if `True`, widget is disabled. Default: `False`."
   ]
  },
  {
   "cell_type": "code",
   "execution_count": 64,
   "metadata": {},
   "outputs": [
    {
     "data": {
      "application/vnd.jupyter.widget-view+json": {
       "model_id": "ffc7205bed154f10b16f413b6050bef9",
       "version_major": 2,
       "version_minor": 0
      },
      "text/plain": [
       "ColorPicker(value='yellow', description='Choose a color')"
      ]
     },
     "metadata": {},
     "output_type": "display_data"
    }
   ],
   "source": [
    "widgets.ColorPicker(\n",
    "    concise=False,\n",
    "    description='Choose a color',\n",
    "    value='yellow',\n",
    "    disabled=False\n",
    ")"
   ]
  },
  {
   "cell_type": "markdown",
   "metadata": {},
   "source": [
    "### <a id='container'></a> Container / Layout"
   ]
  },
  {
   "cell_type": "markdown",
   "metadata": {},
   "source": [
    "`Container/Layout` widgets help to organise and arrange other widgets. The widgets that are part of a container widget are called `childred`. Each container widget has a `children` property that can be set either when the widget is created or at a later stage.\n",
    "The following `Container/Layout` items are available:\n",
    "* `Box / HBox / VBox`\n",
    "* `GridBox`\n",
    "* `Accordion`\n",
    "* `Tabs`\n",
    "* `Stacked`"
   ]
  },
  {
   "cell_type": "markdown",
   "metadata": {},
   "source": [
    "#### <a id='Box'></a>Box / HBox / VBox"
   ]
  },
  {
   "cell_type": "markdown",
   "metadata": {},
   "source": [
    "`Box`, `HBox` and `VBox` allow you to define boxes that are either `horizontally` or `vertically` arranged. The following example defines a list of labels with `widgets.Label` and arranges the labels horizontally as boxes."
   ]
  },
  {
   "cell_type": "code",
   "execution_count": 77,
   "metadata": {},
   "outputs": [
    {
     "data": {
      "application/vnd.jupyter.widget-view+json": {
       "model_id": "32fe2441d268418ea88f6ee3dffa2b8c",
       "version_major": 2,
       "version_minor": 0
      },
      "text/plain": [
       "Box(children=(Label(value='0'), Label(value='1'), Label(value='2'), Label(value='3')))"
      ]
     },
     "metadata": {},
     "output_type": "display_data"
    }
   ],
   "source": [
    "items = [widgets.Label(str(i)) for i in range(4)]\n",
    "widgets.Box(items)"
   ]
  },
  {
   "cell_type": "markdown",
   "metadata": {},
   "source": [
    "#### <a id='VBox'></a>HBox / VBox combined"
   ]
  },
  {
   "cell_type": "markdown",
   "metadata": {},
   "source": [
    "You can also combine different boxes vertically and horizontally. The example below first arranges the define labels with two vertical boxes. A second step arranged the two vertical boxes horizontally."
   ]
  },
  {
   "cell_type": "code",
   "execution_count": 36,
   "metadata": {},
   "outputs": [
    {
     "data": {
      "application/vnd.jupyter.widget-view+json": {
       "model_id": "ab5b56824f824f5b9d03c662b465fdba",
       "version_major": 2,
       "version_minor": 0
      },
      "text/plain": [
       "HBox(children=(VBox(children=(Label(value='0'), Label(value='1'))), VBox(children=(Label(value='2'), Label(val…"
      ]
     },
     "metadata": {},
     "output_type": "display_data"
    }
   ],
   "source": [
    "items = [widgets.Label(str(i)) for i in range(4)]\n",
    "left_box = widgets.VBox([items[0], items[1]])\n",
    "right_box = widgets.VBox([items[2], items[3]])\n",
    "widgets.HBox([left_box, right_box])"
   ]
  },
  {
   "cell_type": "markdown",
   "metadata": {},
   "source": [
    "#### <a id='GridBox'></a>GridBox"
   ]
  },
  {
   "cell_type": "markdown",
   "metadata": {},
   "source": [
    "`GridBox` uses the HTML Grid specification to lay out its children in two dimensional grid. The example below lays out the 8 items inside in 3 columns and as many rows as needed to accommodate the items."
   ]
  },
  {
   "cell_type": "code",
   "execution_count": 42,
   "metadata": {},
   "outputs": [
    {
     "data": {
      "application/vnd.jupyter.widget-view+json": {
       "model_id": "9058a106331a479ea6671fec7348d4f5",
       "version_major": 2,
       "version_minor": 0
      },
      "text/plain": [
       "GridBox(children=(Label(value='0'), Label(value='1'), Label(value='2'), Label(value='3'), Label(value='4'), La…"
      ]
     },
     "metadata": {},
     "output_type": "display_data"
    }
   ],
   "source": [
    "items = [widgets.Label(str(i)) for i in range(8)]\n",
    "widgets.GridBox(items, layout=widgets.Layout(grid_template_columns=\"repeat(3, 200px)\"))"
   ]
  },
  {
   "cell_type": "markdown",
   "metadata": {},
   "source": [
    "#### <a id='Accordion'></a>Accordion"
   ]
  },
  {
   "cell_type": "code",
   "execution_count": 38,
   "metadata": {},
   "outputs": [
    {
     "data": {
      "application/vnd.jupyter.widget-view+json": {
       "model_id": "b45a3e2dcf9f43f8a53a01cf66cc3b86",
       "version_major": 2,
       "version_minor": 0
      },
      "text/plain": [
       "Accordion(children=(IntSlider(value=0), Text(value='')))"
      ]
     },
     "metadata": {},
     "output_type": "display_data"
    }
   ],
   "source": [
    "accordion = widgets.Accordion(children=[widgets.IntSlider(), widgets.Text()], titles=('Slider', 'Text'))\n",
    "accordion"
   ]
  },
  {
   "cell_type": "markdown",
   "metadata": {},
   "source": [
    "#### <a id='Tabs'></a>Tabs"
   ]
  },
  {
   "cell_type": "markdown",
   "metadata": {},
   "source": [
    "In this example the children are set after the tab is created. Titles for the tabs are set in the same way they are for Accordion."
   ]
  },
  {
   "cell_type": "code",
   "execution_count": 39,
   "metadata": {},
   "outputs": [
    {
     "data": {
      "application/vnd.jupyter.widget-view+json": {
       "model_id": "8c8ae8dcc727416992ace5d0ba13aafe",
       "version_major": 2,
       "version_minor": 0
      },
      "text/plain": [
       "Tab(children=(Text(value='', description='P0'), Text(value='', description='P1'), Text(value='', description='…"
      ]
     },
     "metadata": {},
     "output_type": "display_data"
    }
   ],
   "source": [
    "tab_contents = ['P0', 'P1', 'P2', 'P3', 'P4']\n",
    "children = [widgets.Text(description=name) for name in tab_contents]\n",
    "tab = widgets.Tab()\n",
    "tab.children = children\n",
    "tab.titles = [str(i) for i in range(len(children))]\n",
    "tab"
   ]
  },
  {
   "cell_type": "markdown",
   "metadata": {},
   "source": [
    "## <a id='action'></a>Jupyter widgets in action"
   ]
  },
  {
   "cell_type": "code",
   "execution_count": null,
   "metadata": {},
   "outputs": [],
   "source": []
  },
  {
   "cell_type": "code",
   "execution_count": 80,
   "metadata": {
    "scrolled": true
   },
   "outputs": [
    {
     "data": {
      "application/vnd.jupyter.widget-view+json": {
       "model_id": "d84cf8518c004b0c926c3fd5e0e27e03",
       "version_major": 2,
       "version_minor": 0
      },
      "text/plain": [
       "HBox(children=(VBox(children=(IntSlider(value=0), IntSlider(value=0))), Output()))"
      ]
     },
     "metadata": {},
     "output_type": "display_data"
    }
   ],
   "source": [
    "from IPython.display import display\n",
    "\n",
    "a = widgets.IntSlider()\n",
    "b = widgets.IntSlider()\n",
    "\n",
    "def f(a, b):\n",
    "    print(\"{} * {} = {}\".format(a, b, a * b))\n",
    "\n",
    "out = widgets.interactive_output(f, { \"a\": a, \"b\": b })\n",
    "\n",
    "display(widgets.HBox([widgets.VBox([a, b]), out]))"
   ]
  },
  {
   "cell_type": "markdown",
   "metadata": {
    "Collapsed": "false"
   },
   "source": [
    "<hr>"
   ]
  },
  {
   "cell_type": "markdown",
   "metadata": {},
   "source": [
    "## Resources"
   ]
  },
  {
   "cell_type": "markdown",
   "metadata": {},
   "source": [
    "- [Jupyter widgets readthedocs](https://ipywidgets.readthedocs.io/en/stable/index.html)"
   ]
  },
  {
   "cell_type": "markdown",
   "metadata": {},
   "source": [
    "<br>"
   ]
  },
  {
   "cell_type": "markdown",
   "metadata": {},
   "source": [
    "<a href=\"./00_index.ipynb\"><< Index - Dashboarding with Jupyter Notebooks and Voila </a><span style=\"float:right;\"><a href=\"./02_voila_dashboards.ipynb\"> 02 - Introduction to Voila dashboards >></a></span>"
   ]
  },
  {
   "cell_type": "markdown",
   "metadata": {
    "Collapsed": "false"
   },
   "source": [
    "<hr>\n",
    "&copy; 2020 | Julia Wagemann\n",
    "<a rel=\"license\" href=\"http://creativecommons.org/licenses/by/4.0/\"><img style=\"float: right\" alt=\"Creative Commons Lizenzvertrag\" style=\"border-width:0\" src=\"https://i.creativecommons.org/l/by/4.0/88x31.png\" /></a>"
   ]
  }
 ],
 "metadata": {
  "kernelspec": {
   "display_name": "Python 3",
   "language": "python",
   "name": "python3"
  },
  "language_info": {
   "codemirror_mode": {
    "name": "ipython",
    "version": 3
   },
   "file_extension": ".py",
   "mimetype": "text/x-python",
   "name": "python",
   "nbconvert_exporter": "python",
   "pygments_lexer": "ipython3",
   "version": "3.7.0"
  }
 },
 "nbformat": 4,
 "nbformat_minor": 4
}
